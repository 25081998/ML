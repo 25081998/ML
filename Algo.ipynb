{
 "cells": [
  {
   "cell_type": "markdown",
   "metadata": {},
   "source": [
    "## Лабораторная работа \"Алгоритмы машинного обучения\"\n",
    "## Бабичева Анна\n",
    "## М8О-304Б-17"
   ]
  },
  {
   "cell_type": "code",
   "execution_count": 1,
   "metadata": {},
   "outputs": [],
   "source": [
    "import warnings\n",
    "\n",
    "warnings.filterwarnings(\"ignore\")\n",
    "\n",
    "import numpy as np\n",
    "import pandas as pd \n",
    "import matplotlib.pyplot as plt\n",
    "import time\n",
    "\n",
    "from matplotlib.colors import ListedColormap\n",
    "from datetime import datetime \n",
    "from pandas import Series, DataFrame \n",
    "from sklearn.model_selection import cross_val_score, cross_validate, train_test_split\n",
    " \n",
    "import lightgbm as lgb \n",
    "import xgboost as xgb \n",
    "\n",
    "from sklearn.linear_model import LogisticRegression\n",
    "from sklearn.neighbors import KNeighborsClassifier\n",
    "from sklearn.tree import DecisionTreeClassifier\n",
    "from sklearn.svm import SVC\n",
    "\n",
    "%matplotlib inline"
   ]
  },
  {
   "cell_type": "markdown",
   "metadata": {},
   "source": [
    "# Задача классификации"
   ]
  },
  {
   "cell_type": "markdown",
   "metadata": {},
   "source": [
    "### Загрузка данных"
   ]
  },
  {
   "cell_type": "code",
   "execution_count": 2,
   "metadata": {},
   "outputs": [],
   "source": [
    "X = pd.read_csv('classification/data/X_adult.csv')\n",
    "Y = pd.read_csv('classification/data/Y_adult.csv')\n",
    "test = pd.read_csv('classification/data/test_adult.csv')\n",
    "target = pd.read_csv('classification/data/target_adult.csv')"
   ]
  },
  {
   "cell_type": "markdown",
   "metadata": {},
   "source": [
    "Так как данные загружаются с одной лишней колонкой, пропишу функцию ее удаления:"
   ]
  },
  {
   "cell_type": "code",
   "execution_count": 3,
   "metadata": {},
   "outputs": [],
   "source": [
    "def delete_unn(data):\n",
    "    return data.drop('Unnamed: 0', axis=1)"
   ]
  },
  {
   "cell_type": "markdown",
   "metadata": {},
   "source": [
    "Предобрабатываю данные, удаляю лишнюю колонку, target делаю списком:"
   ]
  },
  {
   "cell_type": "code",
   "execution_count": 4,
   "metadata": {},
   "outputs": [],
   "source": [
    "X = delete_unn(X)\n",
    "Y = delete_unn(Y)\n",
    "test = delete_unn(test)\n",
    "target = delete_unn(target)\n",
    "target = target['income'].values"
   ]
  },
  {
   "cell_type": "markdown",
   "metadata": {},
   "source": [
    "### Метрики качества"
   ]
  },
  {
   "cell_type": "code",
   "execution_count": 5,
   "metadata": {},
   "outputs": [],
   "source": [
    "class metrics:\n",
    "    \n",
    "    def _tfpns(self, preds, target):\n",
    "        self.TP = 0\n",
    "        self.TN = 0\n",
    "        self.FP = 0\n",
    "        self.FN = 0\n",
    "        \n",
    "        for i in range(len(target)):\n",
    "            if (target[i] == 1) & (preds[i] == 1):\n",
    "                self.TP += 1\n",
    "            elif (target[i] == 0) & (preds[i] == 0):\n",
    "                self.TN += 1\n",
    "            elif (target[i] == 0) & (preds[i] == 1):\n",
    "                self.FP += 1\n",
    "            elif (target[i] == 1) & (preds[i] == 0):\n",
    "                self.FN += 1        \n",
    "    \n",
    "    def accuracy(preds, target):\n",
    "        if len(target) != len(preds):\n",
    "            raise Exception('Несоответствие размерностей')\n",
    "        return np.equal(target, preds).sum() / float(target.shape[0])\n",
    "    # точность\n",
    "    def precision(self, preds, target):\n",
    "        if len(target) != len(preds):\n",
    "            raise Exception('Несоответствие размерностей')\n",
    "        self._tfpns(preds, target)\n",
    "        return self.TP / (self.TP + self.FP)\n",
    "    # полнота\n",
    "    def recall(self, preds, target):\n",
    "        if len(target) != len(preds):\n",
    "            raise Exception('Несоответствие размерностей')\n",
    "        self._tfpns(preds, target)\n",
    "        return self.TP / (self.TP + self.FN)\n",
    "    \n",
    "    def logloss(preds, target):\n",
    "        if len(target) != len(preds):\n",
    "            raise Exception('Несоответствие размерностей')\n",
    "        l = len(target)\n",
    "        return (-1 / l) * sum([target[i] * math.log(preds[i]) + (1 - target[i]) * math.log(1 - preds[i]) for i in range(l)])\n",
    "    \n",
    "    def F1(self, preds, target):\n",
    "        if len(target) != len(preds):\n",
    "            raise Exception('Несоответствие размерностей')\n",
    "        p = self.precision(preds, target)\n",
    "        r = self.recall(preds, target)\n",
    "        return (2 * p * r) / (p + r)\n",
    "    # true positive rate\n",
    "    def TPR(self, preds, target):\n",
    "        if len(target) != len(preds):\n",
    "            raise Exception('Несоответствие размерностей')\n",
    "        self._tfpns(preds, target)\n",
    "        return self.TP / (self.TP + self.FN)\n",
    "    # false positive rate\n",
    "    def FPR(self, preds, target):\n",
    "        if len(target) != len(preds):\n",
    "            raise Exception('Несоответствие размерностей')\n",
    "        self._tfpns(preds, target)\n",
    "        return self.FP / (self.FP + self.TN)\n",
    "    \n",
    "    def MSE(preds, target):\n",
    "        if len(target) != len(preds):\n",
    "            raise Exception('Несоответствие размерностей')\n",
    "        s = 0\n",
    "        for i in range(len(target)):\n",
    "            s += (target[i] - preds[i]) ** 2\n",
    "        return s / len(preds)\n",
    "    \n",
    "    def R2(preds, target):\n",
    "        if len(target) != len(preds):\n",
    "            raise Exception('Несоответствие размерностей')\n",
    "        ESS = sum([(preds[i] - target.mean()) ** 2 for i in range(len(preds))])\n",
    "        RSS = sum([(preds[i] - target[i]) ** 2 for i in range(len(preds))])\n",
    "        TSS = ESS + RSS\n",
    "        return ESS / TSS\n",
    "                                                "
   ]
  },
  {
   "cell_type": "code",
   "execution_count": 6,
   "metadata": {},
   "outputs": [],
   "source": [
    "metric = metrics()"
   ]
  },
  {
   "cell_type": "markdown",
   "metadata": {},
   "source": [
    "### Логистическая регрессия"
   ]
  },
  {
   "cell_type": "code",
   "execution_count": 7,
   "metadata": {},
   "outputs": [],
   "source": [
    "class Logistic_Regression:\n",
    "    \n",
    "    def __init__(self, method='MNK', L=0.9, lmbd=10, epochs=200, eps=0.01):\n",
    "        self.L = L\n",
    "        self.lmbd = lmbd\n",
    "        self.epochs = epochs\n",
    "        self.eps = eps\n",
    "        self.weights = None\n",
    "        self.X = None\n",
    "        self.Y = None\n",
    "        self.preds = None\n",
    "        self.method = method           \n",
    "    \n",
    "    def _sigmoid(x):\n",
    "        return np.exp(-np.logaddexp(0, -x))\n",
    "    \n",
    "    def _Gradient(X, Y, L, lmbd, epochs, eps):\n",
    "        w0 = np.zeros(X.shape[1])\n",
    "        w = np.ones(X.shape[1])\n",
    "        i = 0\n",
    "        e = np.linalg.norm(w - w0)\n",
    "        while (i <= epochs) & (e > eps): \n",
    "            w[0] = w[0] + L * sum(Y[0] - w[0] - sum(w[k + 1] * X[k] for k in range(w.shape[0] - 1)) + lmbd * np.sign(w[0]))\n",
    "            for j in range(1, w.shape[0]):        \n",
    "                w[j] = w[j] + L * sum(X[j - 1] * (Y[j] - w[0] - sum(w[k + 1] * X[k] for k in range(w.shape[0] - 1)) + lmbd * np.sign(w[j])))\n",
    "            e = np.linalg.norm(w - w0)\n",
    "            w0 = w\n",
    "            i += 1\n",
    "        #while (np.linalg.norm(w - w0) > eps) & (k <= epochs):\n",
    "            #w0 = w\n",
    "            #temp = L * ((1 / k) ** 0.5)\n",
    "            #c = (Y * Logistic_Regression._sigmoid(-Y * X.dot(w0)))\n",
    "            #c = c.reshape((c.shape[0], 1)) \n",
    "            #w = w - temp * (-(c * X).sum(axis = 0)) + lmbd * np.sign(w)\n",
    "            #k += 1            \n",
    "        return w\n",
    "    \n",
    "    def _MNK(X, Y, L, lmbd, epochs, eps):\n",
    "        X = np.array(X)\n",
    "        y = np.array(Y)\n",
    "        ones = np.ones(X.shape[0]).reshape(X.shape[0], 1)\n",
    "        X = np.hstack((ones, X))\n",
    "        w = np.linalg.inv(X.T.dot(X)).dot(X.T).dot(y)\n",
    "        return w\n",
    "    \n",
    "    def log_loss(self, target):\n",
    "        if self.preds is None:\n",
    "            raise Exception('Воспользуйтесь функцией predict')\n",
    "        return np.log(1. + np.exp(- self.preds * target)).sum()\n",
    "    \n",
    "    def fit(self, train_data, target):   \n",
    "        x = np.ones((train_data.shape[0], 1))\n",
    "        self.X = np.hstack((x, train_data))\n",
    "        self.Y = np.array(target)\n",
    "        self.Y[target == 0] = -1\n",
    "        if self.method == 'MNK':\n",
    "            self.weights = Logistic_Regression._MNK(train_data, target, self.L, self.lmbd, self.epochs, self.eps)\n",
    "        if self.method == 'Gradient':\n",
    "            self.weights = Logistic_Regression._Gradient(train_data, target, self.L, self.lmbd, self.epochs, self.eps)\n",
    "        \n",
    "    def predict(self, test_data):\n",
    "        ones = np.ones((test_data.shape[0], 1))\n",
    "        test = np.hstack((ones, test_data))\n",
    "        test_w = test.dot(self.weights)\n",
    "        self.preds = np.zeros(test_w.shape)\n",
    "        self.preds[test_w > 0] = 1\n",
    "        self.preds = self.preds.reshape(self.preds.shape[0],)\n",
    "        \n",
    "    def probs(self, test_data):\n",
    "        ones = np.ones((test_data.shape[0], 1))\n",
    "        test = np.hstack((ones, test_data))\n",
    "        test_w = test.dot(self.weights)\n",
    "        return Logistic_Regression._sigmoid(test_w)"
   ]
  },
  {
   "cell_type": "markdown",
   "metadata": {},
   "source": [
    "Обучение модели с МНК:"
   ]
  },
  {
   "cell_type": "code",
   "execution_count": 8,
   "metadata": {},
   "outputs": [],
   "source": [
    "model_logreg_MNK = Logistic_Regression()\n",
    "model_logreg_MNK.fit(X, Y)"
   ]
  },
  {
   "cell_type": "code",
   "execution_count": 9,
   "metadata": {},
   "outputs": [],
   "source": [
    "model_logreg_MNK.predict(test)\n",
    "logreg_MNK_preds = model_logreg_MNK.preds"
   ]
  },
  {
   "cell_type": "markdown",
   "metadata": {},
   "source": [
    "Проверка качества с помощью accuracy и precision:"
   ]
  },
  {
   "cell_type": "code",
   "execution_count": 10,
   "metadata": {},
   "outputs": [
    {
     "data": {
      "text/plain": [
       "0.60936060438548"
      ]
     },
     "execution_count": 10,
     "metadata": {},
     "output_type": "execute_result"
    }
   ],
   "source": [
    "metrics.accuracy(logreg_MNK_preds, target)"
   ]
  },
  {
   "cell_type": "code",
   "execution_count": 11,
   "metadata": {},
   "outputs": [
    {
     "data": {
      "text/plain": [
       "0.23014169171318163"
      ]
     },
     "execution_count": 11,
     "metadata": {},
     "output_type": "execute_result"
    }
   ],
   "source": [
    "metric.precision(logreg_MNK_preds, target)"
   ]
  },
  {
   "cell_type": "markdown",
   "metadata": {},
   "source": [
    "Обучение с помощью стандартной функции:"
   ]
  },
  {
   "cell_type": "code",
   "execution_count": 12,
   "metadata": {},
   "outputs": [
    {
     "data": {
      "text/plain": [
       "LogisticRegression(C=1.0, class_weight=None, dual=False, fit_intercept=True,\n",
       "                   intercept_scaling=1, l1_ratio=None, max_iter=100,\n",
       "                   multi_class='warn', n_jobs=None, penalty='l2',\n",
       "                   random_state=None, solver='warn', tol=0.0001, verbose=0,\n",
       "                   warm_start=False)"
      ]
     },
     "execution_count": 12,
     "metadata": {},
     "output_type": "execute_result"
    }
   ],
   "source": [
    "logreg = LogisticRegression()\n",
    "logreg.fit(X, Y)"
   ]
  },
  {
   "cell_type": "code",
   "execution_count": 13,
   "metadata": {},
   "outputs": [],
   "source": [
    "logreg_p = logreg.predict(test)"
   ]
  },
  {
   "cell_type": "markdown",
   "metadata": {},
   "source": [
    "Проверка качества:"
   ]
  },
  {
   "cell_type": "code",
   "execution_count": 14,
   "metadata": {},
   "outputs": [
    {
     "data": {
      "text/plain": [
       "0.8423929734045821"
      ]
     },
     "execution_count": 14,
     "metadata": {},
     "output_type": "execute_result"
    }
   ],
   "source": [
    "metrics.accuracy(logreg_p, target)"
   ]
  },
  {
   "cell_type": "code",
   "execution_count": 15,
   "metadata": {},
   "outputs": [
    {
     "data": {
      "text/plain": [
       "0.7120609675281644"
      ]
     },
     "execution_count": 15,
     "metadata": {},
     "output_type": "execute_result"
    }
   ],
   "source": [
    "metric.precision(logreg_p, target)"
   ]
  },
  {
   "cell_type": "markdown",
   "metadata": {},
   "source": [
    "### SVM"
   ]
  },
  {
   "cell_type": "code",
   "execution_count": 16,
   "metadata": {},
   "outputs": [],
   "source": [
    "class SVM:\n",
    "    \n",
    "    def __init__(self, etha=0.01, alpha=0.1, epochs=200):\n",
    "        self.etha = etha\n",
    "        self.alpha = alpha\n",
    "        self.epochs = epochs\n",
    "        self.weights = None\n",
    "        self.X_train = None\n",
    "        self.Y_train = None\n",
    "        self.X_val = None\n",
    "        self.Y_val = None\n",
    "        self.preds = None\n",
    "        self.train_errors = []\n",
    "        self.val_errors = []\n",
    "        self.train_loss = []\n",
    "        self.val_loss = []\n",
    "        \n",
    "    def _make_data(x):\n",
    "        x_new = np.zeros((x.shape[0], x.shape[1] + 1))\n",
    "        x_new[:, :-1] = np.array(x)\n",
    "        x_new[:, -1] = 1\n",
    "        return x_new\n",
    "    \n",
    "    def _hinge_loss(self, x, y):\n",
    "        return max(0, 1 - y * (self.weights.dot(x)))\n",
    "    \n",
    "    def _margin_loss(self, x, y):\n",
    "        return self._hinge_loss(x, y) + self.alpha * self.weights * self.weights\n",
    "    \n",
    "    def fit(self, X, Y, validate_rate=0.4, random_state=42):\n",
    "        X_train, X_val, Y_train, Y_val = train_test_split(X, Y, test_size=validate_rate, random_state=random_state)\n",
    "        self.X_train = SVM._make_data(X_train)\n",
    "        self.X_val = SVM._make_data(X_val)\n",
    "        self.Y_train = np.array(Y_train)\n",
    "        self.Y_train[Y_train == 0] = -1\n",
    "        self.Y_val = np.array(Y_val)\n",
    "        self.Y_val[Y_val == 0] = -1\n",
    "        self.weights = np.random.normal(loc=0, scale=0.05, size=self.X_train.shape[1])\n",
    "        \n",
    "        for epoch in range(self.epochs):\n",
    "            tr_err = 0\n",
    "            tr_loss = 0\n",
    "            val_err = 0\n",
    "            val_loss = 0\n",
    "            \n",
    "            for i, x in enumerate(self.X_train):\n",
    "                marg = self.Y_train[i] * self.weights.dot(x)\n",
    "                if marg >= 1:\n",
    "                    self.weights = self.weights - self.etha * self.alpha * self.weights / self.epochs\n",
    "                else:\n",
    "                    self.weights = self.weights + self.etha * (self.Y_train[i] * x - self.alpha * self.weights / self.epochs)\n",
    "                    tr_err += 1\n",
    "                tr_loss += self._margin_loss(x, self.Y_train[i])\n",
    "                \n",
    "            for i, x in enumerate(self.X_val):\n",
    "                val_loss += self._margin_loss(x, self.Y_val[i])\n",
    "                val_err += (self.Y_val[i] * self.weights.dot(x) < 1).astype(int)\n",
    "                \n",
    "            self.train_errors.append(tr_err)\n",
    "            self.train_loss.append(tr_loss)\n",
    "            self.val_errors.append(val_err)\n",
    "            self.val_loss.append(val_loss)\n",
    "            \n",
    "    def predict(self, test):\n",
    "        X = SVM._make_data(test)\n",
    "        self.preds = np.zeros(X.shape[0])\n",
    "        \n",
    "        for i, x in enumerate(X):\n",
    "            if np.sign(self.weights.dot(x)) == 1:\n",
    "                self.preds[i] = 1\n",
    "        "
   ]
  },
  {
   "cell_type": "markdown",
   "metadata": {},
   "source": [
    "Обучение:"
   ]
  },
  {
   "cell_type": "code",
   "execution_count": 17,
   "metadata": {},
   "outputs": [],
   "source": [
    "model_SVM = SVM()\n",
    "model_SVM.fit(X, Y)"
   ]
  },
  {
   "cell_type": "code",
   "execution_count": 18,
   "metadata": {},
   "outputs": [],
   "source": [
    "model_SVM.predict(test)\n",
    "SVM_preds = model_SVM.preds"
   ]
  },
  {
   "cell_type": "markdown",
   "metadata": {},
   "source": [
    "Проверка качества:"
   ]
  },
  {
   "cell_type": "code",
   "execution_count": 19,
   "metadata": {},
   "outputs": [
    {
     "data": {
      "text/plain": [
       "0.7730483385541429"
      ]
     },
     "execution_count": 19,
     "metadata": {},
     "output_type": "execute_result"
    }
   ],
   "source": [
    "metrics.accuracy(SVM_preds, target)"
   ]
  },
  {
   "cell_type": "code",
   "execution_count": 20,
   "metadata": {},
   "outputs": [
    {
     "data": {
      "text/plain": [
       "0.9415204678362573"
      ]
     },
     "execution_count": 20,
     "metadata": {},
     "output_type": "execute_result"
    }
   ],
   "source": [
    "metric.precision(SVM_preds, target)"
   ]
  },
  {
   "cell_type": "markdown",
   "metadata": {},
   "source": [
    "Обучение с помощью встроенной функции:"
   ]
  },
  {
   "cell_type": "code",
   "execution_count": 21,
   "metadata": {},
   "outputs": [
    {
     "data": {
      "text/plain": [
       "SVC(C=1.0, cache_size=200, class_weight=None, coef0=0.0,\n",
       "    decision_function_shape='ovr', degree=3, gamma='auto_deprecated',\n",
       "    kernel='linear', max_iter=-1, probability=False, random_state=None,\n",
       "    shrinking=True, tol=0.001, verbose=False)"
      ]
     },
     "execution_count": 21,
     "metadata": {},
     "output_type": "execute_result"
    }
   ],
   "source": [
    "svm = SVC(kernel='linear')\n",
    "svm.fit(X, Y)"
   ]
  },
  {
   "cell_type": "code",
   "execution_count": 22,
   "metadata": {},
   "outputs": [],
   "source": [
    "svm_p = svm.predict(test)"
   ]
  },
  {
   "cell_type": "markdown",
   "metadata": {},
   "source": [
    "Проверка качества:"
   ]
  },
  {
   "cell_type": "code",
   "execution_count": 23,
   "metadata": {},
   "outputs": [
    {
     "data": {
      "text/plain": [
       "0.8447269823720902"
      ]
     },
     "execution_count": 23,
     "metadata": {},
     "output_type": "execute_result"
    }
   ],
   "source": [
    "metrics.accuracy(svm_p, target)"
   ]
  },
  {
   "cell_type": "code",
   "execution_count": 24,
   "metadata": {},
   "outputs": [
    {
     "data": {
      "text/plain": [
       "0.7297768479776848"
      ]
     },
     "execution_count": 24,
     "metadata": {},
     "output_type": "execute_result"
    }
   ],
   "source": [
    "metric.precision(svm_p, target)"
   ]
  },
  {
   "cell_type": "markdown",
   "metadata": {},
   "source": [
    "### Дерево решений (старая версия - очень долго обучалась)"
   ]
  },
  {
   "cell_type": "code",
   "execution_count": 25,
   "metadata": {},
   "outputs": [],
   "source": [
    "class Descision_Tree_1:\n",
    "    \n",
    "    def __init__(self, classes=2, min_size=3, max_depth=7):\n",
    "        self.classes = classes\n",
    "        self.min_size = min_size\n",
    "        self.max_depth = max_depth\n",
    "        self.classes_vals = list(np.arange(classes))\n",
    "        self.split = None\n",
    "        self.data = None\n",
    "        self.preds = None\n",
    "        pass\n",
    "    \n",
    "    def _gini(groups, classes):\n",
    "        gini = 0\n",
    "        count = sum([len(group) for group in groups])\n",
    "        \n",
    "        for group in groups:\n",
    "            size = len(group)\n",
    "            if size == 0:\n",
    "                continue\n",
    "            score = 0\n",
    "            for c in classes:\n",
    "                score = ([g[-1] for g in group].count(c) / size) ** 2\n",
    "            gini += (1 - score) * size / count\n",
    "        return gini\n",
    "    \n",
    "    def _get_frequent(self, group):\n",
    "        vals = [g[-1] for g in group]\n",
    "        return max(set(vals), key=vals.count)\n",
    "    \n",
    "    def _split_by_step(self, data):\n",
    "        score = 1000\n",
    "        \n",
    "        for i in range(data.shape[0] - 1):\n",
    "            for row in data:\n",
    "                left = []\n",
    "                right = []\n",
    "                for r in data:\n",
    "                    if r[i] < row[i]:\n",
    "                        left.append(r)\n",
    "                    else:\n",
    "                        right.append(r)\n",
    "                gini = Descision_Tree._gini((left, right), self.classes_vals)\n",
    "                if gini < score:\n",
    "                    index = i\n",
    "                    val = row[i]\n",
    "                    score = gini\n",
    "                    groups = (left, right)\n",
    "        return {'idx': index, 'val': val, 'groups': groups}\n",
    "    \n",
    "    def _is_less(self, group, title, depth):\n",
    "        if len(group) <= self.min_size:\n",
    "            root[title] = self._get_frequent(group)\n",
    "        else:\n",
    "            root[title] = self._split_by_step(group)\n",
    "            self._split(root[title], depth + 1)\n",
    "     \n",
    "    def _split(self, root, depth):\n",
    "        print(depth)\n",
    "        left, right = root['groups']\n",
    "        del(root['groups'])\n",
    "        if not left or not right:\n",
    "            root['left'] = root['right'] = self._get_frequent(left + right)\n",
    "            return\n",
    "        if depth >= self.max_depth:\n",
    "            root['left'] = self._get_frequent(left)\n",
    "            root['right'] = self._get_frequent(right)\n",
    "            return\n",
    "        self._is_less(self, left, 'left', depth)\n",
    "        self._is_less(self, right, 'right', depth)\n",
    "        \n",
    "    def _build_tree(self):\n",
    "        root = self._split_by_step(self.data)\n",
    "        self._split(root, 1)\n",
    "        self.split = root\n",
    "        \n",
    "    def fit(self, X, Y):\n",
    "        self.data = np.hstack((np.array(X), np.array(Y)))\n",
    "        self._build_tree()\n",
    "        \n",
    "    def _instance(self, root, title, x):\n",
    "        if isintance(root[title], dict):\n",
    "            return self._predict_one(root[title], x)\n",
    "        else:\n",
    "            return root[title]\n",
    "        \n",
    "    def _predict_one(self, root, x):\n",
    "        if x[root['index']] < root['value']:\n",
    "            self._instance(root, 'left', x)\n",
    "        else:\n",
    "            self._instance(root, 'right', x)\n",
    "            \n",
    "        \n",
    "    def predict(self, test):\n",
    "        X = np.array(test)\n",
    "        self.preds = []\n",
    "        for x in X:\n",
    "            self.preds.append(self._predict_one(self.split, x))\n"
   ]
  },
  {
   "cell_type": "markdown",
   "metadata": {},
   "source": [
    "### Дерево решений (новая версия)"
   ]
  },
  {
   "cell_type": "code",
   "execution_count": 26,
   "metadata": {},
   "outputs": [],
   "source": [
    "class Descision_Tree:\n",
    "    \n",
    "    class Node:\n",
    "        \n",
    "        def __init__(self, idxs=None, positives=None, negatives=None, c=None):\n",
    "            self.predicat = None\n",
    "            self.left = None\n",
    "            self.right = None\n",
    "            self.positives = positives\n",
    "            self.negatives = negatives\n",
    "            self.cl = c\n",
    "            self.idxs = idxs\n",
    "            self.len = self.idxs.shape[0]\n",
    "        \n",
    "        def is_leaf(self):\n",
    "            return self.predicat == None\n",
    "        \n",
    "        def is_root(self):\n",
    "            return not self.is_leaf()\n",
    "        \n",
    "        def make_leaf(self):\n",
    "            self.predicat = None\n",
    "            self.left = None\n",
    "            self.right = None\n",
    "            \n",
    "        def classify(self):\n",
    "            if self.positives >= self.negatives:\n",
    "                self.cl = 1\n",
    "            else:\n",
    "                self.cl = 0\n",
    "            \n",
    "    def __init__(self, classes=2, min_size=3, max_depth=7):\n",
    "        self.classes = classes\n",
    "        self.min_size = min_size\n",
    "        self.max_depth = max_depth\n",
    "        self.classes_vals = list(np.arange(classes))\n",
    "        self.split = None\n",
    "        self.X = None\n",
    "        self.Y = None\n",
    "        self.preds = None\n",
    "        self.idxs = None\n",
    "        self.is_cat = None\n",
    "        self.cat_vals = {}\n",
    "            \n",
    "    def _gini(poses, negs):\n",
    "        p = poses / (poses + negs)\n",
    "        return 2 * p * (1 - p) \n",
    "    \n",
    "    def _find_cat(self):\n",
    "        self.is_cat = np.zeros(self.X.shape[1])\n",
    "        for i in range(self.X.shape[1]):\n",
    "            uniq = np.unique(self.X[:, i])\n",
    "            if len(uniq) < 10:\n",
    "                self.cat_vals[i] = uniq\n",
    "                self.is_cat[i] = 1\n",
    "    \n",
    "    def _build_tree(self):\n",
    "        self.split = Descision_Tree.Node(idxs=np.arange(self.Y.shape[0]))\n",
    "        self.split.positives = self.Y.sum()\n",
    "        self.split.negatives = self.split.len - self.split.positives\n",
    "        self._make_nodes(self.split, 1)\n",
    "    \n",
    "    def _stop(self, node, depth):\n",
    "        if (node.len < self.min_size) | (depth > self.max_depth):\n",
    "            return True\n",
    "        return (node.positives == 0 | node.negatives == 0)\n",
    "    \n",
    "    def _find_split(self, node):\n",
    "        x = self.X[node.idxs]\n",
    "        y = self.Y[node.idxs]\n",
    "        score = Descision_Tree._gini(node.positives, node.negatives)\n",
    "        \n",
    "        best_score = 0\n",
    "        best_ind = None\n",
    "        best_val = None\n",
    "        \n",
    "        for i in range(self.X.shape[1]):\n",
    "            col = x[:, i]\n",
    "            if self.is_cat[i]:\n",
    "                vals = self.cat_vals[i]\n",
    "                for j in range(1, vals.shape[0]):\n",
    "                    yy = y[col < vals[j]]\n",
    "                    if (yy.shape[0] == 0) | (yy.shape[0] == y.shape[0]):\n",
    "                        continue\n",
    "                    right_pos = yy.sum()\n",
    "                    right_neg = yy.shape[0] - right_pos\n",
    "                    right_score = Descision_Tree._gini(right_pos, right_neg)\n",
    "                    left_score = Descision_Tree._gini(node.positives - right_pos, node.negatives - right_neg)\n",
    "                    \n",
    "                    s = score - (yy.shape[0] * right_score / node.len) - (1 - yy.shape[0] / node.len) * left_score\n",
    "                    \n",
    "                    if s > best_score:\n",
    "                        best_val = vals[j]\n",
    "                        best_ind = i\n",
    "                        best_score = s\n",
    "            else:\n",
    "                sort_x = np.argsort(col)\n",
    "                right_neg = 0\n",
    "                right_pos = 0\n",
    "                last_val = col[sort_x[0]]\n",
    "                \n",
    "                for j in range(1, col.shape[0]):\n",
    "                    if y[sort_x[j - 1]]:\n",
    "                        right_pos += 1\n",
    "                    else:\n",
    "                        right_neg += 1\n",
    "                    \n",
    "                    ind = sort_x[j]\n",
    "                    if col[ind] == last_val:\n",
    "                        continue\n",
    "                    last_val = col[ind]\n",
    "                    right_score = Descision_Tree._gini(right_pos, right_neg)\n",
    "                    left_score = Descision_Tree._gini(node.positives - right_pos, node.negatives - right_neg)\n",
    "                    \n",
    "                    s = score - (j * right_score / node.len) - (1 - j / node.len) * left_score\n",
    "                    if s > best_score:\n",
    "                        best_val = col[ind]\n",
    "                        best_ind = i\n",
    "                        best_score = s\n",
    "        if best_score > 0:\n",
    "            return best_ind, best_val\n",
    "        return None, None\n",
    "    \n",
    "    def _split(self, node, ind, val):\n",
    "        node.predicat = lambda x: x[ind] < val\n",
    "        col = self.X[node.idxs, ind]\n",
    "        \n",
    "        right_inds = node.idxs[col < val]\n",
    "        left_inds = node.idxs[col >= val]\n",
    "        \n",
    "        right_pos = self.Y[right_inds].sum()\n",
    "        left_pos = self.Y[left_inds].sum()\n",
    "        right_neg = right_inds.shape[0] - right_pos\n",
    "        left_neg = left_inds.shape[0] - left_pos\n",
    "        \n",
    "        node.left = Descision_Tree.Node(idxs=left_inds, positives=left_pos, negatives=left_neg)\n",
    "        node.right = Descision_Tree.Node(idxs=right_inds, positives=right_pos, negatives=right_neg)\n",
    "        \n",
    "    def _make_nodes(self, node, depth):\n",
    "        node.classify()\n",
    "        \n",
    "        if self._stop(node, depth) == True:\n",
    "            return\n",
    "        ind, val = self._find_split(node)\n",
    "        if (ind == None) | (val == None):\n",
    "            return\n",
    "        \n",
    "        self._split(node, ind, val)\n",
    "        \n",
    "        self._make_nodes(node.left, depth + 1)\n",
    "        self._make_nodes(node.right, depth + 1)\n",
    "    \n",
    "    def fit(self, X, Y):\n",
    "        self.X = np.array(X)\n",
    "        self.Y = np.array(Y)\n",
    "        self.idxs = np.arange(self.X.shape[0])\n",
    "        self._find_cat()\n",
    "        self._build_tree()\n",
    "        \n",
    "    def predict(self, test):\n",
    "        test = np.array(test)\n",
    "        self.preds = np.zeros(len(test))\n",
    "        for i in range(len(test)):\n",
    "            node = self.split\n",
    "            while node.is_root():\n",
    "                if node.predicat(test[i]):\n",
    "                    node = node.right\n",
    "                else:\n",
    "                    node = node.left\n",
    "            self.preds[i] = node.cl"
   ]
  },
  {
   "cell_type": "markdown",
   "metadata": {},
   "source": [
    "Обучение:"
   ]
  },
  {
   "cell_type": "code",
   "execution_count": 27,
   "metadata": {},
   "outputs": [],
   "source": [
    "model_tree = Descision_Tree()\n",
    "model_tree.fit(X, Y)"
   ]
  },
  {
   "cell_type": "code",
   "execution_count": 28,
   "metadata": {},
   "outputs": [],
   "source": [
    "model_tree.predict(test)\n",
    "tree_preds = model_tree.preds"
   ]
  },
  {
   "cell_type": "markdown",
   "metadata": {},
   "source": [
    "Проверка качества:"
   ]
  },
  {
   "cell_type": "code",
   "execution_count": 29,
   "metadata": {},
   "outputs": [
    {
     "data": {
      "text/plain": [
       "0.8506848473680978"
      ]
     },
     "execution_count": 29,
     "metadata": {},
     "output_type": "execute_result"
    }
   ],
   "source": [
    "metrics.accuracy(tree_preds, target)"
   ]
  },
  {
   "cell_type": "code",
   "execution_count": 30,
   "metadata": {},
   "outputs": [
    {
     "data": {
      "text/plain": [
       "0.787952787952788"
      ]
     },
     "execution_count": 30,
     "metadata": {},
     "output_type": "execute_result"
    }
   ],
   "source": [
    "metric.precision(tree_preds, target)"
   ]
  },
  {
   "cell_type": "markdown",
   "metadata": {},
   "source": [
    "Обучение с помощью стандартных моделей:"
   ]
  },
  {
   "cell_type": "code",
   "execution_count": 31,
   "metadata": {},
   "outputs": [
    {
     "data": {
      "text/plain": [
       "DecisionTreeClassifier(class_weight=None, criterion='gini', max_depth=7,\n",
       "                       max_features=None, max_leaf_nodes=None,\n",
       "                       min_impurity_decrease=0.0, min_impurity_split=None,\n",
       "                       min_samples_leaf=1, min_samples_split=2,\n",
       "                       min_weight_fraction_leaf=0.0, presort=False,\n",
       "                       random_state=None, splitter='best')"
      ]
     },
     "execution_count": 31,
     "metadata": {},
     "output_type": "execute_result"
    }
   ],
   "source": [
    "tree = DecisionTreeClassifier(max_depth=7)\n",
    "tree.fit(X, Y)"
   ]
  },
  {
   "cell_type": "code",
   "execution_count": 32,
   "metadata": {},
   "outputs": [],
   "source": [
    "tree_p = tree.predict(test)"
   ]
  },
  {
   "cell_type": "markdown",
   "metadata": {},
   "source": [
    "Проверка качества:"
   ]
  },
  {
   "cell_type": "code",
   "execution_count": 33,
   "metadata": {},
   "outputs": [
    {
     "data": {
      "text/plain": [
       "0.8425158159818193"
      ]
     },
     "execution_count": 33,
     "metadata": {},
     "output_type": "execute_result"
    }
   ],
   "source": [
    "metrics.accuracy(tree_p, target)"
   ]
  },
  {
   "cell_type": "code",
   "execution_count": 34,
   "metadata": {},
   "outputs": [
    {
     "data": {
      "text/plain": [
       "0.7216459197786999"
      ]
     },
     "execution_count": 34,
     "metadata": {},
     "output_type": "execute_result"
    }
   ],
   "source": [
    "metric.precision(tree_p, target)"
   ]
  },
  {
   "cell_type": "markdown",
   "metadata": {},
   "source": [
    "### kNN"
   ]
  },
  {
   "cell_type": "code",
   "execution_count": 35,
   "metadata": {},
   "outputs": [],
   "source": [
    "class kNN:\n",
    "    \n",
    "    def __init__(self, k, num_classes):\n",
    "        if (k < 2) | (num_classes < 2):\n",
    "            raise Exception(\"Неверное задание параметров\")\n",
    "        self.k = k\n",
    "        self.classes = num_classes\n",
    "        self.X = None\n",
    "        self.Y = None\n",
    "        self.preds = []\n",
    "        pass\n",
    "    \n",
    "    def _dist(x, y):\n",
    "        x = np.array(x, dtype='f')    \n",
    "        y = np.array(y, dtype='f')\n",
    "        return np.linalg.norm(x - y)\n",
    "    \n",
    "    def fit(self, train_data, target):       \n",
    "        self.X = train_data\n",
    "        self.Y = target\n",
    "        if len(self.Y) - 1 < self.k:\n",
    "            raise Exception('k > len(target)')\n",
    "        \n",
    "    def predict(self, test_data):\n",
    "        for i in range(test_data.shape[0]):\n",
    "            print(i)\n",
    "            test_point = test_data.loc[[i], test_data.columns]\n",
    "            distances = []\n",
    "            r = []\n",
    "            for j in range(self.X.shape[0]):\n",
    "                x = self.X.loc[[j], self.X.columns]\n",
    "                distances.append([kNN._dist(test_point, x), self.Y.iloc[[j], [0]].values[0][0]])\n",
    "            \n",
    "            stat = [0 for i in range(self.classes)]\n",
    "            for d in sorted(distances)[0:self.k]:\n",
    "                stat[d[1]] += 1\n",
    "\n",
    "            self.preds.append(sorted(zip(stat, range(self.classes)), reverse=True)[0][1])  "
   ]
  },
  {
   "cell_type": "markdown",
   "metadata": {},
   "source": [
    "Мой алгоритм получился неоптимизированным по времени, поэтому проверю его работу лишь на первых 50 элементах тестовой выборки:"
   ]
  },
  {
   "cell_type": "code",
   "execution_count": 36,
   "metadata": {},
   "outputs": [],
   "source": [
    "new_test = test[:50]"
   ]
  },
  {
   "cell_type": "markdown",
   "metadata": {},
   "source": [
    "Обучение:"
   ]
  },
  {
   "cell_type": "code",
   "execution_count": 37,
   "metadata": {},
   "outputs": [],
   "source": [
    "model_knn = kNN(k=5, num_classes=2)\n",
    "model_knn.fit(X, Y)"
   ]
  },
  {
   "cell_type": "code",
   "execution_count": 38,
   "metadata": {},
   "outputs": [
    {
     "name": "stdout",
     "output_type": "stream",
     "text": [
      "0\n",
      "1\n",
      "2\n",
      "3\n",
      "4\n",
      "5\n",
      "6\n",
      "7\n",
      "8\n",
      "9\n",
      "10\n",
      "11\n",
      "12\n",
      "13\n",
      "14\n",
      "15\n",
      "16\n",
      "17\n",
      "18\n",
      "19\n",
      "20\n",
      "21\n",
      "22\n",
      "23\n",
      "24\n",
      "25\n",
      "26\n",
      "27\n",
      "28\n",
      "29\n",
      "30\n",
      "31\n",
      "32\n",
      "33\n",
      "34\n",
      "35\n",
      "36\n",
      "37\n",
      "38\n",
      "39\n",
      "40\n",
      "41\n",
      "42\n",
      "43\n",
      "44\n",
      "45\n",
      "46\n",
      "47\n",
      "48\n",
      "49\n"
     ]
    }
   ],
   "source": [
    "model_knn.predict(new_test)\n",
    "knn_preds = model_knn.preds"
   ]
  },
  {
   "cell_type": "markdown",
   "metadata": {},
   "source": [
    "Проверка качества:"
   ]
  },
  {
   "cell_type": "code",
   "execution_count": 39,
   "metadata": {},
   "outputs": [
    {
     "data": {
      "text/plain": [
       "0.84"
      ]
     },
     "execution_count": 39,
     "metadata": {},
     "output_type": "execute_result"
    }
   ],
   "source": [
    "metrics.accuracy(knn_preds, target[:50])"
   ]
  },
  {
   "cell_type": "code",
   "execution_count": 40,
   "metadata": {},
   "outputs": [
    {
     "data": {
      "text/plain": [
       "1.0"
      ]
     },
     "execution_count": 40,
     "metadata": {},
     "output_type": "execute_result"
    }
   ],
   "source": [
    "metric.precision(knn_preds, target[:50])"
   ]
  },
  {
   "cell_type": "markdown",
   "metadata": {},
   "source": [
    "Обучение с помощью встроенной модели:"
   ]
  },
  {
   "cell_type": "code",
   "execution_count": 41,
   "metadata": {},
   "outputs": [
    {
     "data": {
      "text/plain": [
       "KNeighborsClassifier(algorithm='auto', leaf_size=30, metric='minkowski',\n",
       "                     metric_params=None, n_jobs=2, n_neighbors=5, p=2,\n",
       "                     weights='uniform')"
      ]
     },
     "execution_count": 41,
     "metadata": {},
     "output_type": "execute_result"
    }
   ],
   "source": [
    "knn = KNeighborsClassifier(n_neighbors=5, n_jobs=2)\n",
    "knn.fit(X, Y)"
   ]
  },
  {
   "cell_type": "code",
   "execution_count": 42,
   "metadata": {},
   "outputs": [],
   "source": [
    "knn_p = knn.predict(new_test)"
   ]
  },
  {
   "cell_type": "markdown",
   "metadata": {},
   "source": [
    "Проверка качества:"
   ]
  },
  {
   "cell_type": "code",
   "execution_count": 44,
   "metadata": {},
   "outputs": [
    {
     "data": {
      "text/plain": [
       "0.88"
      ]
     },
     "execution_count": 44,
     "metadata": {},
     "output_type": "execute_result"
    }
   ],
   "source": [
    "metrics.accuracy(knn_p, target[:50])"
   ]
  },
  {
   "cell_type": "code",
   "execution_count": 45,
   "metadata": {},
   "outputs": [
    {
     "data": {
      "text/plain": [
       "1.0"
      ]
     },
     "execution_count": 45,
     "metadata": {},
     "output_type": "execute_result"
    }
   ],
   "source": [
    "metric.precision(knn_p, target[:50])"
   ]
  },
  {
   "cell_type": "markdown",
   "metadata": {},
   "source": [
    "# Задача регрессии"
   ]
  },
  {
   "cell_type": "markdown",
   "metadata": {},
   "source": [
    "### Загрузка данных"
   ]
  },
  {
   "cell_type": "code",
   "execution_count": 63,
   "metadata": {},
   "outputs": [],
   "source": [
    "X_r = pd.read_csv('housing/data/X_housing.csv')\n",
    "Y_r = pd.read_csv('housing/data/Y_housing.csv')\n",
    "test_r = pd.read_csv('housing/data/test_housing.csv')\n",
    "target_r = pd.read_csv('housing/data/target.csv')"
   ]
  },
  {
   "cell_type": "markdown",
   "metadata": {},
   "source": [
    "### Предобработка"
   ]
  },
  {
   "cell_type": "code",
   "execution_count": 64,
   "metadata": {},
   "outputs": [],
   "source": [
    "X_r = delete_unn(X_r)\n",
    "Y_r = delete_unn(Y_r)\n",
    "test_r = delete_unn(test_r)\n",
    "target_r = target_r['SalePrice'].values"
   ]
  },
  {
   "cell_type": "code",
   "execution_count": 65,
   "metadata": {},
   "outputs": [],
   "source": [
    "un_test = []\n",
    "un_x = []\n",
    "\n",
    "for c in X_r:\n",
    "    if c in test_r:\n",
    "        continue\n",
    "    un_test.append(c)\n",
    "\n",
    "for c in test_r:\n",
    "    if c in X_r:\n",
    "        continue\n",
    "    un_x.append(c)"
   ]
  },
  {
   "cell_type": "code",
   "execution_count": 66,
   "metadata": {},
   "outputs": [],
   "source": [
    "test_r = test_r.drop(un_x, axis=1)\n",
    "X_r = X_r.drop(un_test, axis=1)"
   ]
  },
  {
   "cell_type": "code",
   "execution_count": 67,
   "metadata": {},
   "outputs": [
    {
     "data": {
      "text/plain": [
       "(733, 164)"
      ]
     },
     "execution_count": 67,
     "metadata": {},
     "output_type": "execute_result"
    }
   ],
   "source": [
    "test_r.shape"
   ]
  },
  {
   "cell_type": "code",
   "execution_count": 68,
   "metadata": {},
   "outputs": [
    {
     "data": {
      "text/plain": [
       "(2197, 164)"
      ]
     },
     "execution_count": 68,
     "metadata": {},
     "output_type": "execute_result"
    }
   ],
   "source": [
    "X_r.shape"
   ]
  },
  {
   "cell_type": "markdown",
   "metadata": {},
   "source": [
    "### Обучение на xgboost"
   ]
  },
  {
   "cell_type": "code",
   "execution_count": 69,
   "metadata": {},
   "outputs": [
    {
     "data": {
      "text/plain": [
       "XGBRegressor(base_score=0.5, booster='gbtree', colsample_bylevel=1,\n",
       "             colsample_bynode=1, colsample_bytree=0.8, eta=0.3, gamma=0.5,\n",
       "             importance_type='gain', learning_rate=0.05, max_delta_step=0,\n",
       "             max_depth=7, min_child_weight=1, missing=None, n_estimators=700,\n",
       "             n_jobs=-1, nthread=None, objective='reg:squarederror',\n",
       "             random_state=42, reg_alpha=0, reg_lambda=1, scale_pos_weight=1,\n",
       "             seed=None, silent=None, subsample=0.8, verbosity=1)"
      ]
     },
     "execution_count": 69,
     "metadata": {},
     "output_type": "execute_result"
    }
   ],
   "source": [
    "xgbr_params = {'max_depth':7,\n",
    "               'n_estimators':700,\n",
    "               'objective':'reg:squarederror',\n",
    "               'n_jobs':-1, \n",
    "               'min_child_weight':1,\n",
    "               'eta':0.3, \n",
    "               'subsample':0.8, \n",
    "               'gamma':0.5, \n",
    "               'colsample_bytree':0.8, \n",
    "               'learning_rate':0.05}\n",
    "model = xgb.XGBRegressor(**xgbr_params, random_state=42)\n",
    "model.fit(X_r, Y_r)"
   ]
  },
  {
   "cell_type": "code",
   "execution_count": 70,
   "metadata": {},
   "outputs": [],
   "source": [
    "preds = model.predict(test_r)"
   ]
  },
  {
   "cell_type": "markdown",
   "metadata": {},
   "source": [
    "### Проверка качества"
   ]
  },
  {
   "cell_type": "code",
   "execution_count": 71,
   "metadata": {},
   "outputs": [
    {
     "data": {
      "text/plain": [
       "470001922.20854515"
      ]
     },
     "execution_count": 71,
     "metadata": {},
     "output_type": "execute_result"
    }
   ],
   "source": [
    "metrics.MSE(preds, target_r)"
   ]
  },
  {
   "cell_type": "code",
   "execution_count": 72,
   "metadata": {},
   "outputs": [
    {
     "data": {
      "text/plain": [
       "0.9193663340242011"
      ]
     },
     "execution_count": 72,
     "metadata": {},
     "output_type": "execute_result"
    }
   ],
   "source": [
    "metrics.R2(preds, target_r)"
   ]
  },
  {
   "cell_type": "code",
   "execution_count": null,
   "metadata": {},
   "outputs": [],
   "source": []
  }
 ],
 "metadata": {
  "kernelspec": {
   "display_name": "Python 3",
   "language": "python",
   "name": "python3"
  },
  "language_info": {
   "codemirror_mode": {
    "name": "ipython",
    "version": 3
   },
   "file_extension": ".py",
   "mimetype": "text/x-python",
   "name": "python",
   "nbconvert_exporter": "python",
   "pygments_lexer": "ipython3",
   "version": "3.7.3"
  }
 },
 "nbformat": 4,
 "nbformat_minor": 2
}
